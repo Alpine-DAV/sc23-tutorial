{
 "cells": [
  {
   "cell_type": "markdown",
   "id": "688b33b2-6f96-4677-bc7e-afe43b489885",
   "metadata": {},
   "source": [
    "A simple simulator for the heat equation in 2D, with an in-situ coupling with the Ascent library https://ascent.readthedocs.io/en/latest/#\n",
    "\n",
    "Author: Jean M. Favre, Swiss National Supercomputing Center\n",
    "\n",
    "Tested locally with Ascent Thu  2 Nov 16:06:02 CET 2023"
   ]
  },
  {
   "cell_type": "code",
   "execution_count": null,
   "id": "3e76d340-330a-44b4-8f42-d4879614caec",
   "metadata": {},
   "outputs": [],
   "source": [
    "import ascent"
   ]
  },
  {
   "cell_type": "code",
   "execution_count": null,
   "id": "e1781f93-933f-42f5-a73e-593cd58f639b",
   "metadata": {},
   "outputs": [],
   "source": [
    "# cleanup\n",
    "!./cleanup.sh"
   ]
  },
  {
   "cell_type": "code",
   "execution_count": null,
   "id": "5687b449-53d5-4883-b6bd-15f8c2e8ec6e",
   "metadata": {},
   "outputs": [],
   "source": [
    "!mpiexec -n 2 python3 heat_diffusion_insitu_parallel_ascent.py \\\n",
    "                           --res=64 --timesteps 1000 --mesh=uniform --frequency 100 --verbose"
   ]
  },
  {
   "cell_type": "code",
   "execution_count": null,
   "id": "7e01da8e-1526-40a5-835f-0f23308fb382",
   "metadata": {},
   "outputs": [],
   "source": [
    "# list all images which have been rendered to disk\n",
    "import glob\n",
    "image_files = glob.glob(\"temperature-par.*png\")\n",
    "image_files.sort()"
   ]
  },
  {
   "cell_type": "code",
   "execution_count": null,
   "id": "5076914a-f426-4626-9751-4689820857f2",
   "metadata": {},
   "outputs": [],
   "source": [
    "ascent.jupyter.AscentImageSequenceViewer(image_files).show()"
   ]
  }
 ],
 "metadata": {
  "kernelspec": {
   "display_name": "Python 3 (ipykernel)",
   "language": "python",
   "name": "python3"
  },
  "language_info": {
   "codemirror_mode": {
    "name": "ipython",
    "version": 3
   },
   "file_extension": ".py",
   "mimetype": "text/x-python",
   "name": "python",
   "nbconvert_exporter": "python",
   "pygments_lexer": "ipython3",
   "version": "3.9.13"
  }
 },
 "nbformat": 4,
 "nbformat_minor": 5
}
