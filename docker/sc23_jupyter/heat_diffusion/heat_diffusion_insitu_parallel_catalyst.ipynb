{
 "cells": [
  {
   "cell_type": "markdown",
   "id": "688b33b2-6f96-4677-bc7e-afe43b489885",
   "metadata": {},
   "source": [
    "A simple simulator for the heat equation in 2D, with an in-situ coupling using Catalyst https://catalyst-in-situ.readthedocs.io/en/latest/index.html\n",
    "\n",
    "Author: Jean M. Favre, Swiss National Supercomputing Center\n",
    "\n",
    "Tested locally Thu  2 Nov 16:39:04 CET 2023"
   ]
  },
  {
   "cell_type": "code",
   "execution_count": null,
   "id": "01b249ad-3738-49c1-bf40-12f0b21bd6f4",
   "metadata": {},
   "outputs": [],
   "source": [
    "import ascent"
   ]
  },
  {
   "cell_type": "code",
   "execution_count": null,
   "id": "0e5324e6-7230-4192-a951-bbef19d32fe2",
   "metadata": {},
   "outputs": [],
   "source": [
    "# cleanup\n",
    "!./cleanup.sh"
   ]
  },
  {
   "cell_type": "code",
   "execution_count": null,
   "id": "7da7f340-fe37-474b-8da9-21b259fa6a56",
   "metadata": {},
   "outputs": [],
   "source": [
    "!mpiexec -n 2 python3 heat_diffusion_insitu_parallel_catalyst.py \\\n",
    "                           --res=64 --timesteps 2000 --mesh=rectilinear --verbose"
   ]
  },
  {
   "cell_type": "code",
   "execution_count": null,
   "id": "bc4cd406-6eb7-459b-b105-69c7fddf392e",
   "metadata": {},
   "outputs": [],
   "source": [
    "# list all images which have been rendered to disk\n",
    "from ascent.jupyter import AscentImageSequenceViewer\n",
    "import glob\n",
    "image_files = glob.glob(\"view*png\")\n",
    "image_files.sort()\n",
    "AscentImageSequenceViewer(image_files).show()"
   ]
  }
 ],
 "metadata": {
  "kernelspec": {
   "display_name": "Python 3 (ipykernel)",
   "language": "python",
   "name": "python3"
  },
  "language_info": {
   "codemirror_mode": {
    "name": "ipython",
    "version": 3
   },
   "file_extension": ".py",
   "mimetype": "text/x-python",
   "name": "python",
   "nbconvert_exporter": "python",
   "pygments_lexer": "ipython3",
   "version": "3.9.13"
  }
 },
 "nbformat": 4,
 "nbformat_minor": 5
}
